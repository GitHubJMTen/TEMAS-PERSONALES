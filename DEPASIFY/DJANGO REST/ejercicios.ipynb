{
 "cells": [
  {
   "attachments": {},
   "cell_type": "markdown",
   "metadata": {},
   "source": [
    "Escribir un programa que lea un entero positivo, \n",
    ", introducido por el usuario y después muestre en pantalla la suma de todos los enteros desde 1 hasta \n",
    ". La suma de los \n",
    " primeros enteros positivos puede ser calculada de la siguiente forma:\n",
    "\n",
    "suma=n(n+1) * 1/2"
   ]
  },
  {
   "cell_type": "code",
   "execution_count": null,
   "metadata": {},
   "outputs": [],
   "source": [
    "n = int (input (\"Introduzca un numero entero:\"))\n",
    "for i in range(1,n):\n",
    "    print (\"suma=\",n*(i+1)/2)"
   ]
  },
  {
   "attachments": {},
   "cell_type": "markdown",
   "metadata": {},
   "source": [
    "Escribir un programa que pida al usuario su peso (en kg) y estatura (en metros), calcule el índice de masa corporal y lo almacene en una variable, y muestre por pantalla la frase Tu índice de masa corporal es <imc> donde <imc> es el índice de masa corporal calculado redondeado con dos decimales."
   ]
  },
  {
   "cell_type": "code",
   "execution_count": null,
   "metadata": {},
   "outputs": [],
   "source": [
    "peso=float (input(\"introduzca su peso en kilogramos:\"))\n",
    "altura=float(input(\"introduzca su estatura en metros:\"))\n",
    "imc=float(round(peso/(altura**2),2))\n",
    "print (\"Tu indice de masa corporal es %.2f\" %imc)"
   ]
  },
  {
   "attachments": {},
   "cell_type": "markdown",
   "metadata": {},
   "source": [
    "Escribir un programa que pida al usuario dos números enteros y muestre por pantalla la <n> entre <m> da un cociente <c> y un resto <r> donde <n> y <m> son los números introducidos por el usuario, y <c> y <r> son el cociente y el resto de la división entera respectivamente."
   ]
  },
  {
   "cell_type": "code",
   "execution_count": null,
   "metadata": {},
   "outputs": [],
   "source": [
    "n=int (input(\"Introducir numero n:\"))\n",
    "m= int (input(\"Introducir numero m:\"))\n",
    "print (\"Entre %i y %i da un cociente %i y un resto %i \" %(n,m,n//m,n%m))\n"
   ]
  },
  {
   "attachments": {},
   "cell_type": "markdown",
   "metadata": {},
   "source": [
    "Escribir un programa que pregunte al usuario una cantidad a invertir, el interés anual y el número de años, y muestre por pantalla el capital obtenido en la inversión.\n",
    "I = crt"
   ]
  },
  {
   "cell_type": "code",
   "execution_count": null,
   "metadata": {},
   "outputs": [],
   "source": [
    "c=int(input (\"Capital a invertir:\"))\n",
    "r=float(input(\"Interes a aplicar:\"))\n",
    "t=float(input(\"Años de duracion:\"))\n",
    "I=c*r*t/100\n",
    "print (\"El capital ganado es %.02f\" %I)\n"
   ]
  },
  {
   "attachments": {},
   "cell_type": "markdown",
   "metadata": {},
   "source": [
    "Escribir un programa que pregunte el nombre del usuario en la consola y un número entero e imprima por pantalla en líneas distintas el nombre del usuario tantas veces como el número introducido."
   ]
  },
  {
   "cell_type": "code",
   "execution_count": null,
   "metadata": {},
   "outputs": [],
   "source": [
    "nombre=str(input(\"Introduzca su nombre:\"))\n",
    "n=int(input(\"Numero de repeticiones:\"))\n",
    "for i in range(n):\n",
    "    print(nombre)"
   ]
  },
  {
   "attachments": {},
   "cell_type": "markdown",
   "metadata": {},
   "source": [
    "Escribir un programa que pregunte el nombre completo del usuario en la consola y después muestre por pantalla el nombre completo del usuario tres veces, una con todas las letras minúsculas, otra con todas las letras mayúsculas y otra solo con la primera letra del nombre y de los apellidos en mayúscula. El usuario puede introducir su nombre combinando mayúsculas y minúsculas como quiera."
   ]
  },
  {
   "cell_type": "code",
   "execution_count": null,
   "metadata": {},
   "outputs": [],
   "source": [
    "nombre=str(input(\"nombre:\"))\n",
    "print(nombre.lower())\n",
    "print(nombre.upper())\n",
    "print(nombre.title())"
   ]
  },
  {
   "attachments": {},
   "cell_type": "markdown",
   "metadata": {},
   "source": [
    "Los teléfonos de una empresa tienen el siguiente formato prefijo-número-extension donde el prefijo es el código del país +34, y la extensión tiene dos dígitos (por ejemplo +34-913724710-56). Escribir un programa que pregunte por un número de teléfono con este formato y muestre por pantalla el número de teléfono sin el prefijo y la extensión."
   ]
  },
  {
   "cell_type": "code",
   "execution_count": null,
   "metadata": {},
   "outputs": [],
   "source": [
    "telefono=str(input(\"Introducir telefono: +xx-xxxxxxxxx-xx\"))\n",
    "print(telefono[4:-3])"
   ]
  },
  {
   "attachments": {},
   "cell_type": "markdown",
   "metadata": {},
   "source": [
    "Escribir un programa que pida al usuario que introduzca una frase en la consola y muestre por pantalla la frase invertida."
   ]
  },
  {
   "cell_type": "code",
   "execution_count": null,
   "metadata": {},
   "outputs": [],
   "source": [
    "texto=str(input(\"Introducir texto:\"))\n",
    "textoinverso=\"\"\n",
    "x=0\n",
    "\n",
    "for i in range(len(texto),0,-1):\n",
    "    textoinverso=textoinverso+texto[i-1]\n",
    "    x=x+1\n",
    "print (textoinverso)  \n",
    "print(texto[::-1])"
   ]
  },
  {
   "attachments": {},
   "cell_type": "markdown",
   "metadata": {},
   "source": [
    "Escribir un programa que pregunte el correo electrónico del usuario en la consola y muestre por pantalla otro correo electrónico con el mismo nombre (la parte delante de la arroba @) pero con dominio ceu.es."
   ]
  },
  {
   "cell_type": "code",
   "execution_count": null,
   "metadata": {},
   "outputs": [],
   "source": [
    "email=str(input(\"Correo electronico:\"))\n",
    "newemail=''\n",
    "for i in email:\n",
    "    newemail=newemail+i\n",
    "    if i=='@':\n",
    "        newemail=newemail+'ceu.es'\n",
    "        break\n",
    "print(email[:email.find('@')] + '@ceu.es')\n",
    "print (newemail)"
   ]
  },
  {
   "attachments": {},
   "cell_type": "markdown",
   "metadata": {},
   "source": [
    "Escribir un programa que pregunte al usuario la fecha de su nacimiento en formato dd/mm/aaaa y muestra por pantalla, el día, el mes y el año. Adaptar el programa anterior para que también funcione cuando el día o el mes se introduzcan con un solo carácter."
   ]
  },
  {
   "cell_type": "code",
   "execution_count": null,
   "metadata": {},
   "outputs": [],
   "source": [
    "fecha=input(\"Introduzca su fecha en formato xxxx/xx/xx\")\n",
    "print(\"el año es \",fecha[:fecha.find('/')])\n",
    "mesdia=fecha[fecha.find('/')+1:]\n",
    "print(\"el mes es \",mesdia[:mesdia.find('/')])\n",
    "print(\"el dia es \",mesdia[mesdia.find('/')+1:])\n"
   ]
  },
  {
   "attachments": {},
   "cell_type": "markdown",
   "metadata": {},
   "source": [
    "Escribir un programa que pregunte por consola por los productos de una cesta de la compra, separados por comas, y muestre por pantalla cada uno de los productos en una línea distinta."
   ]
  },
  {
   "cell_type": "code",
   "execution_count": null,
   "metadata": {},
   "outputs": [],
   "source": [
    "productos=(str(input(\"introduzca productos de compra separados por una coma\")).split(','))\n",
    "print (productos)\n",
    "for p in productos:\n",
    "    print(p)"
   ]
  },
  {
   "attachments": {},
   "cell_type": "markdown",
   "metadata": {},
   "source": [
    "Escribir un programa que pregunte el nombre el un producto, su precio y un número de unidades y muestre por pantalla una cadena con el nombre del producto seguido de su precio unitario con 6 dígitos enteros y 2 decimales, el número de unidades con tres dígitos y el coste total con 8 dígitos enteros y 2 decimales."
   ]
  },
  {
   "cell_type": "code",
   "execution_count": null,
   "metadata": {},
   "outputs": [],
   "source": [
    "producto=str(input(\"Nombre producto:\"))\n",
    "precio=float(input(\"precio:\"))\n",
    "unidades=int(input(\"Unidades:\"))\n",
    "coste=precio*float(unidades)\n",
    "\n",
    "print (\"El producto %s tiene un precio de %6.2f y son %3.0i siendo el coste final de %8.2f\"%(producto,precio,unidades,coste))"
   ]
  },
  {
   "attachments": {},
   "cell_type": "markdown",
   "metadata": {},
   "source": [
    "Escribir un programa que almacene la cadena de caracteres contraseña en una variable, pregunte al usuario por la contraseña e imprima por pantalla si la contraseña introducida por el usuario coincide con la guardada en la variable sin tener en cuenta mayúsculas y minúsculas."
   ]
  },
  {
   "cell_type": "code",
   "execution_count": null,
   "metadata": {},
   "outputs": [],
   "source": [
    "cs='MecaGonlaPu'\n",
    "contra=input(\"Contraseña:\")\n",
    "if cs.lower()==contra.lower():\n",
    "    print (\"Contraseña correcta\")\n",
    "else:\n",
    "    print (\"Burro, graba bien\")\n"
   ]
  },
  {
   "attachments": {},
   "cell_type": "markdown",
   "metadata": {},
   "source": [
    "Escribir un programa que pida al usuario un número entero positivo y muestre por pantalla todos los números impares desde 1 hasta ese número separados por comas."
   ]
  },
  {
   "cell_type": "code",
   "execution_count": null,
   "metadata": {},
   "outputs": [],
   "source": [
    "num=int(input(\"Introduce numero:\"))\n",
    "lis=[]\n",
    "lis2=''\n",
    "for i in range(1,num,2):\n",
    "    lis2=lis2+str(i)+','\n",
    "    try: \n",
    "        lis.append(i) \n",
    "    except: \n",
    "        None\n",
    "        \n",
    "print (lis,'\\n',lis2)"
   ]
  },
  {
   "attachments": {},
   "cell_type": "markdown",
   "metadata": {},
   "source": [
    "Escribir un programa que pida al usuario un número entero positivo y muestre por pantalla la cuenta atrás desde ese número hasta cero separados por comas."
   ]
  },
  {
   "cell_type": "code",
   "execution_count": null,
   "metadata": {},
   "outputs": [],
   "source": [
    "num=int(input(\"Introduce numero:\"))\n",
    "lis=[]\n",
    "lis2=''\n",
    "for i in range(num,-1,-1):\n",
    "    lis2=lis2+str(i)+','\n",
    "    try: \n",
    "        lis.append(i) \n",
    "    except: \n",
    "        None\n",
    "        \n",
    "print (lis,'\\n',lis2)"
   ]
  },
  {
   "attachments": {},
   "cell_type": "markdown",
   "metadata": {},
   "source": [
    "Escribir un programa que pida al usuario un número entero y muestre por pantalla un triángulo rectángulo como el de más abajo, de altura el número introducido."
   ]
  },
  {
   "cell_type": "code",
   "execution_count": null,
   "metadata": {},
   "outputs": [],
   "source": [
    "num=int(input(\"Introduce numero:\"))\n",
    "\n",
    "for i in range(num):\n",
    "    s=''\n",
    "    for n in range(0,i):\n",
    "        s=s+'*'\n",
    "    print(s)\n"
   ]
  },
  {
   "attachments": {},
   "cell_type": "markdown",
   "metadata": {},
   "source": [
    "Escribir un programa que pida al usuario un número entero y muestre por pantalla un triángulo rectángulo como el de más abajo.\n",
    "\n",
    "1\n",
    "3 1\n",
    "5 3 1"
   ]
  },
  {
   "cell_type": "code",
   "execution_count": null,
   "metadata": {},
   "outputs": [],
   "source": [
    "num=int(input(\"Introduce numero:\"))\n",
    "\n",
    "for i in range(1,num+1,2):\n",
    "    s=''\n",
    "    for n in range(i,-1,-2):\n",
    "        s=s+str(n)+' '\n",
    "    print(s)"
   ]
  },
  {
   "attachments": {},
   "cell_type": "markdown",
   "metadata": {},
   "source": [
    "Escribir un programa que pida al usuario un número entero y muestre por pantalla si es un número primo o no."
   ]
  },
  {
   "cell_type": "code",
   "execution_count": null,
   "metadata": {},
   "outputs": [],
   "source": [
    "num=int(input(\"Introduce numero:\"))\n",
    "primo=True\n",
    "c=2\n",
    "max,r=divmod(num, c)\n",
    "if r==0: \n",
    "   i=max\n",
    "   primo=False\n",
    "else:\n",
    "    for i in range(3,max):\n",
    "        c,r=divmod(num,i)\n",
    "        if r==0:\n",
    "            primo=False\n",
    "            break\n",
    "if primo==False:\n",
    "    print(num, \" no es un numero primo, divisible por {} x {} ={}\".format(i,c,i*c) )\n",
    "else:\n",
    "    print(num,\" es numero primo\")\n",
    "        "
   ]
  },
  {
   "attachments": {},
   "cell_type": "markdown",
   "metadata": {},
   "source": [
    "Escribir un programa que pregunte al usuario los números ganadores de la lotería primitiva, los almacene en una lista y los muestre por pantalla ordenados de menor a mayor."
   ]
  },
  {
   "cell_type": "code",
   "execution_count": null,
   "metadata": {},
   "outputs": [],
   "source": [
    "loto=[]\n",
    "for i in range(6):\n",
    "    num=int(input(\"Numero Ganador:\"))\n",
    "    loto.append(num)\n",
    "\n",
    "x=0\n",
    "\n",
    "def bucle(loto):\n",
    "    change=False\n",
    "    for x in range(len(loto)-1):\n",
    "        lotox1=loto[x+1]\n",
    "        if loto[x]>lotox1:\n",
    "            loto[x+1]=loto[x]\n",
    "            loto[x]=lotox1\n",
    "            change=True\n",
    "           \n",
    "            break\n",
    "    return(change)\n",
    "\n",
    "while bucle(loto)==True:\n",
    "    pass\n",
    "print(loto)"
   ]
  },
  {
   "attachments": {},
   "cell_type": "markdown",
   "metadata": {},
   "source": [
    "Escribir un programa que pida al usuario una palabra y muestre por pantalla si es un palíndromo."
   ]
  },
  {
   "cell_type": "code",
   "execution_count": 80,
   "metadata": {},
   "outputs": [
    {
     "name": "stdout",
     "output_type": "stream",
     "text": [
      "c c\n",
      "a a\n",
      "c c\n",
      "c c\n",
      "a a\n",
      "Palíndromo\n"
     ]
    }
   ],
   "source": [
    "texto=input(\"Palabra:\")\n",
    "longitud=len(texto)-1\n",
    "Palindromo=True\n",
    "for i in range(longitud):\n",
    "    print(texto[i],texto[longitud-i])\n",
    "    if texto[i]!=texto[longitud-i]:\n",
    "        Palindromo=False\n",
    "if Palindromo==True:\n",
    "    print (\"Palíndromo\")\n",
    "else:\n",
    "    print(\"No es palíndromo\")\n"
   ]
  }
 ],
 "metadata": {
  "kernelspec": {
   "display_name": "Python 3",
   "language": "python",
   "name": "python3"
  },
  "language_info": {
   "codemirror_mode": {
    "name": "ipython",
    "version": 3
   },
   "file_extension": ".py",
   "mimetype": "text/x-python",
   "name": "python",
   "nbconvert_exporter": "python",
   "pygments_lexer": "ipython3",
   "version": "3.10.4 (v3.10.4:9d38120e33, Mar 23 2022, 17:29:05) [Clang 13.0.0 (clang-1300.0.29.30)]"
  },
  "orig_nbformat": 4,
  "vscode": {
   "interpreter": {
    "hash": "aee8b7b246df8f9039afb4144a1f6fd8d2ca17a180786b69acc140d282b71a49"
   }
  }
 },
 "nbformat": 4,
 "nbformat_minor": 2
}
